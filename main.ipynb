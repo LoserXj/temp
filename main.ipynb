{
 "cells": [
  {
   "cell_type": "code",
   "execution_count": 1,
   "metadata": {},
   "outputs": [
    {
     "name": "stderr",
     "output_type": "stream",
     "text": [
      "d:\\Python38\\lib\\site-packages\\geopandas\\_compat.py:111: UserWarning: The Shapely GEOS version (3.11.1-CAPI-1.17.1) is incompatible with the GEOS version PyGEOS was compiled with (3.10.4-CAPI-1.16.2). Conversions between both will be slow.\n",
      "  warnings.warn(\n"
     ]
    }
   ],
   "source": [
    "import pandas as pd\n",
    "import numpy as np\n",
    "import geopandas as gpd\n",
    "import transbigdata as tbd\n",
    "import warnings\n",
    "import ast \n",
    "import numpy as np\n",
    "from scipy.spatial import KDTree\n",
    "import abm.config as config\n",
    "import imp\n",
    "from pandarallel import pandarallel\n",
    "pandarallel.initialize(progress_bar=True,nb_workers=10)\n",
    "imp.reload(config)\n",
    "warnings.filterwarnings('ignore')"
   ]
  },
  {
   "cell_type": "code",
   "execution_count": null,
   "metadata": {},
   "outputs": [
    {
     "data": {
      "application/vnd.jupyter.widget-view+json": {
       "model_id": "32355e287bf1417f873d958bb574bbb4",
       "version_major": 2,
       "version_minor": 0
      },
      "text/plain": [
       "VBox(children=(HBox(children=(IntProgress(value=0, description='0.00%', max=186042), Label(value='0 / 186042')…"
      ]
     },
     "metadata": {},
     "output_type": "display_data"
    },
    {
     "data": {
      "application/vnd.jupyter.widget-view+json": {
       "model_id": "7999da23473c43579a3f306ca69fff55",
       "version_major": 2,
       "version_minor": 0
      },
      "text/plain": [
       "VBox(children=(HBox(children=(IntProgress(value=0, description='0.00%', max=186042), Label(value='0 / 186042')…"
      ]
     },
     "metadata": {},
     "output_type": "display_data"
    },
    {
     "data": {
      "text/html": [
       "<div>\n",
       "<style scoped>\n",
       "    .dataframe tbody tr th:only-of-type {\n",
       "        vertical-align: middle;\n",
       "    }\n",
       "\n",
       "    .dataframe tbody tr th {\n",
       "        vertical-align: top;\n",
       "    }\n",
       "\n",
       "    .dataframe thead th {\n",
       "        text-align: right;\n",
       "    }\n",
       "</style>\n",
       "<table border=\"1\" class=\"dataframe\">\n",
       "  <thead>\n",
       "    <tr style=\"text-align: right;\">\n",
       "      <th></th>\n",
       "      <th>time</th>\n",
       "      <th>lat</th>\n",
       "      <th>lon</th>\n",
       "      <th>uid</th>\n",
       "      <th>wether_home</th>\n",
       "      <th>wether_work</th>\n",
       "      <th>timestamp</th>\n",
       "    </tr>\n",
       "  </thead>\n",
       "  <tbody>\n",
       "    <tr>\n",
       "      <th>0</th>\n",
       "      <td>2023-11-12 23:06:21</td>\n",
       "      <td>31.303198</td>\n",
       "      <td>121.578207</td>\n",
       "      <td>0</td>\n",
       "      <td>1</td>\n",
       "      <td>0</td>\n",
       "      <td>6.333333</td>\n",
       "    </tr>\n",
       "    <tr>\n",
       "      <th>1</th>\n",
       "      <td>2023-11-13 00:12:16</td>\n",
       "      <td>31.240176</td>\n",
       "      <td>121.492616</td>\n",
       "      <td>0</td>\n",
       "      <td>0</td>\n",
       "      <td>1</td>\n",
       "      <td>72.250000</td>\n",
       "    </tr>\n",
       "    <tr>\n",
       "      <th>2</th>\n",
       "      <td>2023-11-13 09:01:11</td>\n",
       "      <td>31.303198</td>\n",
       "      <td>121.578207</td>\n",
       "      <td>0</td>\n",
       "      <td>1</td>\n",
       "      <td>0</td>\n",
       "      <td>601.166667</td>\n",
       "    </tr>\n",
       "    <tr>\n",
       "      <th>3</th>\n",
       "      <td>2023-11-13 14:01:52</td>\n",
       "      <td>31.240176</td>\n",
       "      <td>121.492616</td>\n",
       "      <td>0</td>\n",
       "      <td>0</td>\n",
       "      <td>1</td>\n",
       "      <td>901.850000</td>\n",
       "    </tr>\n",
       "    <tr>\n",
       "      <th>4</th>\n",
       "      <td>2023-11-13 19:13:26</td>\n",
       "      <td>31.303198</td>\n",
       "      <td>121.578207</td>\n",
       "      <td>0</td>\n",
       "      <td>1</td>\n",
       "      <td>0</td>\n",
       "      <td>1213.416667</td>\n",
       "    </tr>\n",
       "    <tr>\n",
       "      <th>...</th>\n",
       "      <td>...</td>\n",
       "      <td>...</td>\n",
       "      <td>...</td>\n",
       "      <td>...</td>\n",
       "      <td>...</td>\n",
       "      <td>...</td>\n",
       "      <td>...</td>\n",
       "    </tr>\n",
       "    <tr>\n",
       "      <th>1860451</th>\n",
       "      <td>2023-11-17 19:55:31</td>\n",
       "      <td>31.451261</td>\n",
       "      <td>121.374777</td>\n",
       "      <td>99999</td>\n",
       "      <td>1</td>\n",
       "      <td>0</td>\n",
       "      <td>7015.500000</td>\n",
       "    </tr>\n",
       "    <tr>\n",
       "      <th>1860452</th>\n",
       "      <td>2023-11-19 09:01:12</td>\n",
       "      <td>31.439101</td>\n",
       "      <td>121.389183</td>\n",
       "      <td>99999</td>\n",
       "      <td>0</td>\n",
       "      <td>0</td>\n",
       "      <td>9241.183333</td>\n",
       "    </tr>\n",
       "    <tr>\n",
       "      <th>1860453</th>\n",
       "      <td>2023-11-19 10:02:57</td>\n",
       "      <td>31.423661</td>\n",
       "      <td>121.430856</td>\n",
       "      <td>99999</td>\n",
       "      <td>0</td>\n",
       "      <td>0</td>\n",
       "      <td>9302.933333</td>\n",
       "    </tr>\n",
       "    <tr>\n",
       "      <th>1860454</th>\n",
       "      <td>2023-11-19 16:24:16</td>\n",
       "      <td>31.367463</td>\n",
       "      <td>121.717527</td>\n",
       "      <td>99999</td>\n",
       "      <td>0</td>\n",
       "      <td>0</td>\n",
       "      <td>9684.250000</td>\n",
       "    </tr>\n",
       "    <tr>\n",
       "      <th>1860455</th>\n",
       "      <td>2023-11-19 17:33:39</td>\n",
       "      <td>31.451261</td>\n",
       "      <td>121.374777</td>\n",
       "      <td>99999</td>\n",
       "      <td>1</td>\n",
       "      <td>0</td>\n",
       "      <td>9753.633333</td>\n",
       "    </tr>\n",
       "  </tbody>\n",
       "</table>\n",
       "<p>1860400 rows × 7 columns</p>\n",
       "</div>"
      ],
      "text/plain": [
       "                       time        lat         lon    uid  wether_home  \\\n",
       "0       2023-11-12 23:06:21  31.303198  121.578207      0            1   \n",
       "1       2023-11-13 00:12:16  31.240176  121.492616      0            0   \n",
       "2       2023-11-13 09:01:11  31.303198  121.578207      0            1   \n",
       "3       2023-11-13 14:01:52  31.240176  121.492616      0            0   \n",
       "4       2023-11-13 19:13:26  31.303198  121.578207      0            1   \n",
       "...                     ...        ...         ...    ...          ...   \n",
       "1860451 2023-11-17 19:55:31  31.451261  121.374777  99999            1   \n",
       "1860452 2023-11-19 09:01:12  31.439101  121.389183  99999            0   \n",
       "1860453 2023-11-19 10:02:57  31.423661  121.430856  99999            0   \n",
       "1860454 2023-11-19 16:24:16  31.367463  121.717527  99999            0   \n",
       "1860455 2023-11-19 17:33:39  31.451261  121.374777  99999            1   \n",
       "\n",
       "         wether_work    timestamp  \n",
       "0                  0     6.333333  \n",
       "1                  1    72.250000  \n",
       "2                  0   601.166667  \n",
       "3                  1   901.850000  \n",
       "4                  0  1213.416667  \n",
       "...              ...          ...  \n",
       "1860451            0  7015.500000  \n",
       "1860452            0  9241.183333  \n",
       "1860453            0  9302.933333  \n",
       "1860454            0  9684.250000  \n",
       "1860455            0  9753.633333  \n",
       "\n",
       "[1860400 rows x 7 columns]"
      ]
     },
     "execution_count": 2,
     "metadata": {},
     "output_type": "execute_result"
    }
   ],
   "source": [
    "def read_traj(traj_path):\n",
    "        input_data = pd.read_csv(traj_path)\n",
    "        input_data = input_data.dropna()\n",
    "        if config.INIT_SETTING['parallel']:\n",
    "            input_data['wether_home'] = input_data['type'].parallel_apply(lambda x: 1 if x=='H_0' else 0)\n",
    "            input_data['wether_work'] = input_data['type'].parallel_apply(lambda x: 1 if x=='W_0' else 0)\n",
    "        else:\n",
    "            input_data['wether_home'] = input_data['type'].apply(lambda x: 1 if x=='H_0' else 0)\n",
    "            input_data['wether_work'] = input_data['type'].apply(lambda x: 1 if x=='W_0' else 0) \n",
    "        input_data.drop(columns=['type'],inplace=True)\n",
    "        input_data['time'] = pd.to_datetime(input_data['time'])\n",
    "        starttime = input_data['time'].min()\n",
    "        input_data = input_data[input_data['time']>=starttime]\n",
    "        input_data['timestamp'] = (input_data['time']-starttime).dt.total_seconds()/60\n",
    "        input_data = input_data[~((input_data['timestamp']%(24*60)==0)&(input_data['timestamp']/(24*60)>0))]\n",
    "        uid_counts = input_data['uid'].value_counts()\n",
    "        traj_stay_home = uid_counts[uid_counts == 1].index.tolist()\n",
    "        input_data = input_data[~input_data['uid'].isin(traj_stay_home)]\n",
    "        return starttime, input_data\n",
    "starttime, input_data = read_traj('./input/synthetic_data_100000.csv') \n",
    "input_data"
   ]
  },
  {
   "cell_type": "code",
   "execution_count": null,
   "metadata": {},
   "outputs": [],
   "source": [
    "import random \n",
    "def read_station(home_private_pile_prob, input_data, ev_station=pd.DataFrame(), public_station = pd.DataFrame()):\n",
    "    ## 初始化私桩\n",
    "    traj_data = input_data.copy()\n",
    "    uid_df = traj_data[traj_data['wether_home']==1]['uid'].drop_duplicates()\n",
    "    uid_df = pd.DataFrame(uid_df)\n",
    "    uid_df.reset_index(drop=True,inplace=True)\n",
    "    home_private_pile_series = [random.choices([1,0],weights=[home_private_pile_prob,1-home_private_pile_prob],k=len(uid_df))]\n",
    "    home_private_pile_series = list(home_private_pile_series[0])\n",
    "    uid_df['private_pile'] = home_private_pile_series\n",
    "    # print(uid_df['private_pile'].value_counts()[1],(home_private_pile_series.count(1)))\n",
    "    traj_data = traj_data.merge(uid_df,on=['uid'],how='left')\n",
    "    traj_data['private_pile'] = traj_data['private_pile'].fillna(0)\n",
    "    private_pile_station = traj_data[((traj_data['private_pile']==1)&(traj_data['wether_home']==1))]\n",
    "    uid_traj_private_pile = traj_data[traj_data['private_pile']==1]['uid'].drop_duplicates()\n",
    "    uid_station_private = private_pile_station['uid'].drop_duplicates()\n",
    "    uid_not_in_station = set(uid_traj_private_pile) - set(uid_station_private)\n",
    "    uid_list = list(uid_not_in_station)\n",
    "    for u in uid_list:\n",
    "        traj_data[traj_data['uid']==u]['private_pile'] = 0\n",
    "    if len(private_pile_station) != 0:\n",
    "        private_pile_station.drop_duplicates(subset=['uid'],inplace=True)\n",
    "        private_pile_station = private_pile_station[['uid','lon','lat']]\n",
    "        private_pile_station['stationId'] = private_pile_station.apply(lambda r: str(int(r['uid']))+'_private',axis=1)\n",
    "        private_pile_station['capacity'] = 1\n",
    "        private_pile_station['charge_speed_station'] = 7\n",
    "        private_pile_station['unit_price'] = 1.77\n",
    "        private_pile_station['unit_price'] = private_pile_station['unit_price'].apply(lambda x: str([x for i in range(24)]))\n",
    "        private_pile_station.rename(columns={'lon':'stationLon','lat':\"stationLat\",'uid':'owner'}, inplace=True)\n",
    "        private_pile_station['station_type'] = 'private'\n",
    "    ## 读取ev_station\n",
    "    if len(ev_station) > 0:\n",
    "        ev_station['station_type'] = 'public'\n",
    "        ev_station['owner'] = -1\n",
    "        \n",
    "    if len(public_station) > 0:\n",
    "        public_station['station_type'] = 'public'\n",
    "        public_station['owner'] = -1\n",
    "        public_station['charge_speed_station'] = public_station['charge_speed_station'].apply(lambda x: x if x>0 else 7.0)\n",
    "        public_station.drop(columns=['Unnamed: 0'],inplace=True)\n",
    "    chargstations = pd.concat([ev_station,public_station,private_pile_station], axis=0)\n",
    "    # bounds = (120.85, 30.67, 122.24, 31.87)\n",
    "    # chargstations = chargstations[(chargstations['stationLon']>bounds[0])&(chargstations['stationLon']<bounds[2])\n",
    "    #                               &(chargstations['stationLat']>bounds[1])&(chargstations['stationLat']<bounds[3])]\n",
    "    return chargstations, traj_data\n",
    "\n",
    "\n",
    "#evdata中识别的桩\n",
    "ev_charge_station = pd.read_csv('./charge_station/evstation.csv')\n",
    "ev_charge_station.rename(columns={'order':'capacity','lon':'stationLon','lat':\"stationLat\"},inplace=True)\n",
    "ev_charge_station['stationId'] = [i for i in range(len(ev_charge_station))]\n",
    "ev_charge_station['stationId'] = ev_charge_station['stationId'].apply(lambda x: str(x)+'_ev_station')\n",
    "ev_charge_station = ev_charge_station[['stationId','stationLon','stationLat','capacity']]\n",
    "ev_charge_station['charge_speed_station'] = 7\n",
    "ev_charge_station['unit_price'] = 0.3#/ev_charge_station['capacity']\n",
    "ev_charge_station['unit_price'] = ev_charge_station['unit_price'].apply(lambda x: str([x for i in range(24)]))\n",
    "ev_charge_station\n",
    "\n",
    "#公共桩\n",
    "# public_station = pd.read_csv(r'charge_station/stations_info.csv')\n",
    "\n",
    "home_private_pile_prob = 340/1310 #340万为全国私桩总量，1310万为全国新能源车总量\n",
    "chargstations, input_data = read_station(\n",
    "    home_private_pile_prob=home_private_pile_prob, \n",
    "    input_data=input_data, \n",
    "    ev_station=ev_charge_station)\n",
    "    #public_station=public_station)\n"
   ]
  },
  {
   "cell_type": "code",
   "execution_count": null,
   "metadata": {},
   "outputs": [
    {
     "data": {
      "text/plain": [
       "5"
      ]
     },
     "execution_count": 4,
     "metadata": {},
     "output_type": "execute_result"
    }
   ],
   "source": [
    "\n",
    "import abm.CarAgent as CarAgent\n",
    "import abm.ChargingStationAgent as ChargingstationAgent\n",
    "import abm.Environment as Environment \n",
    "import imp\n",
    "from scipy.stats import fatiguelife\n",
    "import osmnx as ox\n",
    "import pickle \n",
    "import abm.config as config\n",
    "imp.reload(CarAgent)\n",
    "imp.reload(ChargingstationAgent)\n",
    "imp.reload(Environment)\n",
    "step_length = config.SIM_SETTING['step_length']\n",
    "step_length"
   ]
  },
  {
   "cell_type": "code",
   "execution_count": null,
   "metadata": {},
   "outputs": [],
   "source": [
    "def initialize_station(chargstations,step_length):\n",
    "    # 初始化充电站\n",
    "    print('初始化充电站中...')\n",
    "    station_agent_dict = {}\n",
    "    for i in range(len(chargstations)):\n",
    "        r = chargstations.iloc[i]\n",
    "        station_agent_dict[r['stationId']] = ChargingstationAgent.ChargingStationAgent(\n",
    "            station_id=r['stationId'],    # 充电站id\n",
    "            lon=r['stationLon'],               # 经度\n",
    "            lat=r['stationLat'],                # 纬度\n",
    "            max_capacity=r['capacity'],              # 最大容量\n",
    "            charge_speed_station=(r['charge_speed_station']),      # 该充电站最大充电速率 (kW)\n",
    "            step_length=step_length,      # 每一步的时间长度（分钟）\n",
    "            unit_price=ast.literal_eval(r['unit_price']),\n",
    "            station_type=(r['station_type']),\n",
    "            station_owner=r['owner']\n",
    "        )\n",
    "    print('初始化充电站完成，共计', len(station_agent_dict), '个')\n",
    "    return station_agent_dict"
   ]
  },
  {
   "cell_type": "code",
   "execution_count": null,
   "metadata": {},
   "outputs": [],
   "source": [
    "\n",
    "def initialize_car(input_data,step_length,car_num = None, car_type_per_list = None, car_power_distribution_list = None):\n",
    "    print('初始化车辆')\n",
    "    car_agent_dict = {}\n",
    "    if car_type_per_list == None:\n",
    "        car_type_per_list = config.SIM_SETTING['car_type_per_list']\n",
    "    if car_power_distribution_list == None:\n",
    "        car_power_distribution_list = config.SIM_SETTING['car_power_distribution_list']\n",
    "    ## 初始化车辆\n",
    "    carids = input_data['uid'].drop_duplicates()\n",
    "    car_battery = []\n",
    "    for i in range(len(car_type_per_list)):\n",
    "        car_type_per = car_type_per_list[i]\n",
    "        car_power_distribution = car_power_distribution_list[i]\n",
    "        car_battery_tmp = []\n",
    "        for j in range(len(car_power_distribution)-1):\n",
    "            tmp_list = np.random.randint(car_power_distribution[j],car_power_distribution[j+1],size=int((len(carids)*car_type_per/(len(car_power_distribution)-1))))\n",
    "            car_battery_tmp.append(tmp_list)\n",
    "        car_battery_tmp = [item for sublist in car_battery_tmp for item in sublist]\n",
    "        car_battery.append(car_battery_tmp)\n",
    "    \n",
    "    for i in range(len(car_battery)):\n",
    "        np.random.shuffle(car_battery[i])\n",
    "    count = 0\n",
    "\n",
    "    def generate_car(carid,df):\n",
    "        vehicle_type = np.random.choice([i for i in range(len(car_type_per_list))],p=car_type_per_list)\n",
    "        total_power = np.random.choice(car_battery[vehicle_type])\n",
    "        battery_type = 0\n",
    "        charge_decision_power = fatiguelife.rvs(c = config.SIM_SETTING['low_battery_fat_c'], loc = config.SIM_SETTING['low_battery_fat_loc'], \n",
    "                                                scale = config.SIM_SETTING['low_battery_fat_scale'])\n",
    "        if total_power>= 39 and total_power<53:\n",
    "            battery_type = 1\n",
    "            charge_decision_power = fatiguelife.rvs(c = config.SIM_SETTING['mid_battery_fat_c'], loc = config.SIM_SETTING['mid_battery_fat_loc'], \n",
    "                                                scale = config.SIM_SETTING['mid_battery_fat_scale'])\n",
    "        if total_power>=53:\n",
    "            battery_type = 2\n",
    "            charge_decision_power = fatiguelife.rvs(c = config.SIM_SETTING['high_battery_fat_c'], loc = config.SIM_SETTING['high_battery_fat_loc'], \n",
    "                                                scale = config.SIM_SETTING['high_battery_fat_scale'])\n",
    "        battery = int(total_power*np.random.randint(20,100)/100)\n",
    "        \n",
    "        init_lon = df['lon'].iloc[0]\n",
    "        init_lat = df['lat'].iloc[0]\n",
    "        has_private_pile = df['private_pile'].iloc[0]\n",
    "        tripchain = df[['lon', 'lat', 'timestamp','wether_home','wether_work']].rename(\n",
    "            columns={'lon': 'lon', 'lat': 'lat', 'timestamp': 'time'}).to_dict(orient='records')\n",
    "        car_agent = CarAgent.CarAgent(\n",
    "            carid=carid,                 # 车辆id\n",
    "            battery=battery,                   # 剩余电量kWh\n",
    "            init_lon=init_lon,            # 初始经度\n",
    "            init_lat=init_lat,             # 初始纬度\n",
    "            tripchain=tripchain[1:],        # 行程链\n",
    "            step_length=step_length,    # 每一步的时间长度（分钟）\n",
    "            vehicle_power_type = 0,         #车辆动力类型\n",
    "            vehicle_type = vehicle_type,  # 车辆类型\n",
    "            total_power = total_power,   # 总共的电量\n",
    "            battery_type=battery_type,    # 电池类型\n",
    "            charge_decision_power=charge_decision_power,\n",
    "            has_private_pile = has_private_pile,\n",
    "            consumption_rate=config.SIM_SETTING['consumption_rate'],        # 耗电速率（kwh/100km）\n",
    "            charge_speed_car=config.SIM_SETTING['charge_speed_car'],         # 该车支持的最大充电速率 (kW)\n",
    "            travel_speed=config.SIM_SETTING['travel_speed'],            # 该车的行驶速度（km/h）\n",
    "\n",
    "        )\n",
    "        return car_agent\n",
    "\n",
    "\n",
    "    #是否抽样车辆\n",
    "    \n",
    "    if car_num == None:\n",
    "        car_agent_dict = input_data\n",
    "    else:\n",
    "        car_agent_dict = pd.merge(input_data,input_data['uid'].drop_duplicates().sample(car_num))\n",
    "\n",
    "    if config.INIT_SETTING['parallel']:\n",
    "        from pandarallel import pandarallel\n",
    "        pandarallel.initialize(progress_bar=True)\n",
    "        car_agent_dict = car_agent_dict.groupby(['uid']).parallel_apply(lambda df:generate_car(df['uid'].iloc[0],df)).to_dict()\n",
    "    else:\n",
    "        car_agent_dict = car_agent_dict.groupby(['uid']).apply(lambda df:generate_car(df['uid'].iloc[0],df)).to_dict()\n",
    "\n",
    "    print('初始化车辆完成，共计', len(car_agent_dict), '辆')\n",
    "    return car_agent_dict\n"
   ]
  },
  {
   "cell_type": "code",
   "execution_count": null,
   "metadata": {},
   "outputs": [],
   "source": [
    "def initialize_environment(car_agent_dict, station_agent_dict, step_length):\n",
    "    # 初始化环境\n",
    "    print('初始化环境中...')\n",
    "    agent_dict = {}\n",
    "    agent_dict['station'] = station_agent_dict\n",
    "    agent_dict['car'] = car_agent_dict \n",
    "    environment =Environment.EnvironmentAgent(\n",
    "        config.SIM_SETTING['use_road_network'], \n",
    "        agent_dict=agent_dict,\n",
    "        step_length=step_length,\n",
    "    )\n",
    "    print('初始化环境完成')\n",
    "    return environment"
   ]
  },
  {
   "cell_type": "code",
   "execution_count": null,
   "metadata": {},
   "outputs": [
    {
     "name": "stdout",
     "output_type": "stream",
     "text": [
      "初始化充电站中...\n",
      "初始化充电站完成，共计 33772 个\n",
      "初始化车辆\n",
      "INFO: Pandarallel will run on 10 workers.\n",
      "INFO: Pandarallel will use standard multiprocessing data transfer (pipe) to transfer data between the main process and workers.\n"
     ]
    },
    {
     "data": {
      "application/vnd.jupyter.widget-view+json": {
       "model_id": "a8780399e4e74ee48f8f2d0184321974",
       "version_major": 2,
       "version_minor": 0
      },
      "text/plain": [
       "VBox(children=(HBox(children=(IntProgress(value=0, description='0.00%', max=1000), Label(value='0 / 1000'))), …"
      ]
     },
     "metadata": {},
     "output_type": "display_data"
    },
    {
     "name": "stdout",
     "output_type": "stream",
     "text": [
      "初始化车辆完成，共计 10000 辆\n",
      "初始化环境中...\n",
      "初始化环境完成\n"
     ]
    }
   ],
   "source": [
    "station_agent_dict = initialize_station(chargstations, step_length)\n",
    "car_agent_dict = initialize_car(input_data=input_data,step_length=step_length,\n",
    "                                car_num=100\n",
    "                                )\n",
    "environment = initialize_environment(\n",
    "    car_agent_dict=car_agent_dict,\n",
    "    station_agent_dict=station_agent_dict,\n",
    "    step_length=step_length)\n",
    "\n",
    "# import abm.GridAgent as GridAgent\n",
    "# environment.all_agents.append(GridAgent.GridAgent())"
   ]
  },
  {
   "cell_type": "code",
   "execution_count": null,
   "metadata": {},
   "outputs": [
    {
     "name": "stdout",
     "output_type": "stream",
     "text": [
      "========================模型信息========================\n",
      "仿真步长：5分钟\n",
      "仿真步数：2016步\n",
      "仿真天数：7天\n",
      "车辆数量：10000辆\n",
      "充电站数量：33772\n",
      "是否采用路网：False\n",
      "========================开始仿真========================\n"
     ]
    },
    {
     "name": "stderr",
     "output_type": "stream",
     "text": [
      "正在仿真：: 100%|██████████| 2016/2016 [04:13<00:00,  7.95it/s]\n"
     ]
    }
   ],
   "source": [
    "# 仿真运行\n",
    "steps = int(config.SIM_SETTING['simulation_days']*24*60/step_length)\n",
    "\n",
    "environment.simulate(steps)"
   ]
  },
  {
   "cell_type": "code",
   "execution_count": null,
   "metadata": {},
   "outputs": [],
   "source": [
    "# 仿真结束，输出结果\n",
    "output_path = config.OUTPUT_SETTING['output_dir']\n",
    "import os\n",
    "if not os.path.exists(output_path):\n",
    "    os.makedirs(output_path)\n",
    "\n",
    "\n",
    "# 输出站点信息\n",
    "station_infos = pd.DataFrame(environment.station_info)\n",
    "station_infos['time'] = starttime+pd.to_timedelta(station_infos['timestamp'], unit='m')\n",
    "\n",
    "station_infos['num_current_car'] = station_infos['num_current_car'].fillna(0)\n",
    "station_infos['num_waiting_car'] = station_infos['num_waiting_car'].fillna(0)\n",
    "station_infos['num_charge_car_come'] = station_infos['num_charge_car_come'].fillna(0)\n",
    "station_infos['num_charge_car_left'] = station_infos['num_charge_car_left'].fillna(0)\n",
    "\n",
    "station_infos.to_csv(f'{output_path}/station_infos.csv', index=False)"
   ]
  },
  {
   "cell_type": "code",
   "execution_count": null,
   "metadata": {},
   "outputs": [],
   "source": [
    "\n",
    "# 车辆信息输出\n",
    "output_path = config.OUTPUT_SETTING['output_dir']\n",
    "car_infos = pd.DataFrame(environment.car_info)\n",
    "car_infos['time'] = pd.to_timedelta(car_infos['timestamp'], unit='m')+starttime\n",
    "\n",
    "car_infos.sort_values(by=['carid','time'],inplace=True)\n",
    "\n",
    "car_infos = car_infos[['carid','lon','lat','time','soc','status','current_charge_speed']]\n",
    "car_infos.to_csv(f'{output_path}/car_infos.csv',index=None)\n"
   ]
  },
  {
   "cell_type": "code",
   "execution_count": null,
   "metadata": {},
   "outputs": [],
   "source": [
    "# 电网信息输出\n",
    "grid_infos = pd.DataFrame(environment.grid_info)\n",
    "grid_infos['time'] = pd.to_timedelta(grid_infos['timestamp'], unit='m')+starttime\n",
    "grid_infos.to_csv(f'{output_path}/grid_infos.csv',index=None)\n"
   ]
  },
  {
   "cell_type": "code",
   "execution_count": null,
   "metadata": {},
   "outputs": [
    {
     "data": {
      "text/plain": [
       "<AxesSubplot:xlabel='time'>"
      ]
     },
     "execution_count": 15,
     "metadata": {},
     "output_type": "execute_result"
    },
    {
     "data": {
      "image/png": "[encoded data removed]",
      "text/plain": [
       "<Figure size 432x288 with 1 Axes>"
      ]
     },
     "metadata": {
      "needs_background": "light"
     },
     "output_type": "display_data"
    }
   ],
   "source": [
    "grid_infos.set_index('time')['current_charge_speed'].plot()"
   ]
  },
  {
   "cell_type": "code",
   "execution_count": null,
   "metadata": {},
   "outputs": [
    {
     "data": {
      "text/plain": [
       "[4]"
      ]
     },
     "execution_count": 1,
     "metadata": {},
     "output_type": "execute_result"
    }
   ],
   "source": []
  }
 ],
 "metadata": {
  "kernelspec": {
   "display_name": "Python 3",
   "language": "python",
   "name": "python3"
  },
  "language_info": {
   "codemirror_mode": {
    "name": "ipython",
    "version": 3
   },
   "file_extension": ".py",
   "mimetype": "text/x-python",
   "name": "python",
   "nbconvert_exporter": "python",
   "pygments_lexer": "ipython3",
   "version": "3.8.5"
  }
 },
 "nbformat": 4,
 "nbformat_minor": 2
}
